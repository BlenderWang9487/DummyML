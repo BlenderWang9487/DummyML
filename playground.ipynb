{
 "cells": [
  {
   "cell_type": "markdown",
   "metadata": {},
   "source": [
    "Playground\n",
    "==\n",
    "\n",
    "You can test the model here"
   ]
  },
  {
   "cell_type": "code",
   "execution_count": null,
   "metadata": {
    "vscode": {
     "languageId": "shellscript"
    }
   },
   "outputs": [],
   "source": [
    "# build & run test\n",
    "!./scripts/build_n_test.sh"
   ]
  },
  {
   "cell_type": "code",
   "execution_count": null,
   "metadata": {},
   "outputs": [],
   "source": [
    "# Before playing, make sure you already build the project\n",
    "import dummyml\n",
    "import numpy as np\n",
    "import cv2\n",
    "from matplotlib import pyplot as plt"
   ]
  },
  {
   "cell_type": "markdown",
   "metadata": {},
   "source": [
    "Naive Bayes Classifier\n",
    "---"
   ]
  },
  {
   "cell_type": "code",
   "execution_count": null,
   "metadata": {},
   "outputs": [],
   "source": [
    "dummyX = np.zeros((4,))\n",
    "nb_classifier = dummyml.naive_bayes_classifier(0,0)\n",
    "\n",
    "nb_classifier.load('model/myIRIS.dmy')\n",
    "print(\"Result:\",nb_classifier(dummyX))"
   ]
  },
  {
   "cell_type": "markdown",
   "metadata": {},
   "source": [
    "K Means Clustering\n",
    "---"
   ]
  },
  {
   "cell_type": "code",
   "execution_count": null,
   "metadata": {},
   "outputs": [],
   "source": [
    "img = cv2.cvtColor(cv2.imread('./model/building2.jpg'), cv2.COLOR_BGR2RGB)\n",
    "lenna = np.array(img, dtype=np.float64)/256\n",
    "print(lenna.shape)\n",
    "plt.imshow(img)\n",
    "plt.show()"
   ]
  },
  {
   "cell_type": "code",
   "execution_count": null,
   "metadata": {},
   "outputs": [],
   "source": [
    "dataset_size = lenna.shape[0]*lenna.shape[1]\n",
    "lennaX = lenna.flatten().reshape((dataset_size,3))\n",
    "clusters = np.zeros((dataset_size,1),dtype=np.float64)\n",
    "k = 6\n",
    "pool = 10\n",
    "kms_pool = [dummyml.k_means(3,k,np.random.rand(3*k)) for i in range(pool)]\n",
    "\n",
    "for iter in range(20):\n",
    "    for p in range(pool):\n",
    "        kms_pool[p].fit(lennaX, clusters)\n",
    "\n",
    "inertias = [kms_pool[p].sum_of_distance(lennaX) for p in range(pool)]\n",
    "min_index = np.argmin(inertias)\n",
    "print(\"All inertia:\",inertias)\n",
    "print(\"pool #\",min_index,\", min Inertia = \",inertias[min_index])\n",
    "\n",
    "means = kms_pool[p].means()\n",
    "print(\"Final means:\\n\",means)\n",
    "flat = np.array([means[np.int8(cluster[0])] for cluster in clusters]).flatten()\n",
    "new_img = flat.reshape(lenna.shape[0],lenna.shape[1],3)\n",
    "plt.imshow(new_img)\n",
    "plt.show()\n"
   ]
  },
  {
   "cell_type": "markdown",
   "metadata": {},
   "source": [
    "Gaussian Process\n",
    "---"
   ]
  },
  {
   "cell_type": "code",
   "execution_count": null,
   "metadata": {},
   "outputs": [],
   "source": [
    "def f(x):\n",
    "    return 2 + x*0.5 - x**2 + x**3*0.2\n",
    "x = np.linspace(-5, 5, 30)\n",
    "y = f(x) + np.random.randn(len(x))\n",
    "\n",
    "gp = dummyml.gaussian_process(x.reshape((x.size,1)), y)"
   ]
  },
  {
   "cell_type": "code",
   "execution_count": null,
   "metadata": {},
   "outputs": [],
   "source": [
    "gp2 = dummyml.gaussian_process(x.reshape((x.size,1)),y, 0.2, dummyml.kernel.RadialBasisFunctionKernel)"
   ]
  },
  {
   "cell_type": "code",
   "execution_count": null,
   "metadata": {},
   "outputs": [],
   "source": [
    "plt.scatter(x,y)\n",
    "\n",
    "gp_x = np.linspace(-5, 5, 300)\n",
    "pred = [gp2(_x) for _x in gp_x.reshape(300,1)]\n",
    "gp_y = np.array([mv[0] for mv in pred])\n",
    "conf95 = np.array([mv[1]**0.5 * 2 for mv in pred])\n",
    "plt.plot(gp_x, gp_y)\n",
    "plt.fill_between(gp_x, gp_y + conf95, gp_y - conf95, alpha = 0.2)\n",
    "\n",
    "\n",
    "plt.show()"
   ]
  },
  {
   "cell_type": "code",
   "execution_count": null,
   "metadata": {},
   "outputs": [],
   "source": [
    "del gp"
   ]
  }
 ],
 "metadata": {
  "interpreter": {
   "hash": "31f2aee4e71d21fbe5cf8b01ff0e069b9275f58929596ceb00d14d90e3e16cd6"
  },
  "kernelspec": {
   "display_name": "Python 3.8.10 64-bit",
   "language": "python",
   "name": "python3"
  },
  "language_info": {
   "codemirror_mode": {
    "name": "ipython",
    "version": 3
   },
   "file_extension": ".py",
   "mimetype": "text/x-python",
   "name": "python",
   "nbconvert_exporter": "python",
   "pygments_lexer": "ipython3",
   "version": "3.8.10"
  },
  "orig_nbformat": 4
 },
 "nbformat": 4,
 "nbformat_minor": 2
}
