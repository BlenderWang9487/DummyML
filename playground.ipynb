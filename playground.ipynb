{
 "cells": [
  {
   "cell_type": "markdown",
   "metadata": {},
   "source": [
    "Playground\n",
    "==\n",
    "\n",
    "You can test the model here"
   ]
  },
  {
   "cell_type": "code",
   "execution_count": 3,
   "metadata": {
    "vscode": {
     "languageId": "shellscript"
    }
   },
   "outputs": [
    {
     "name": "stdout",
     "output_type": "stream",
     "text": [
      "-- pybind11 v2.9.1 \n",
      "-- Configuring done\n",
      "-- Generating done\n",
      "-- Build files have been written to: /home/nfs_home/blender/repos/DummyML/build\n",
      "[100%] Built target dummyml\n",
      "\u001b[1m============================= test session starts ==============================\u001b[0m\n",
      "platform linux -- Python 3.8.10, pytest-7.1.1, pluggy-1.0.0\n",
      "rootdir: /home/nfs_home/blender/repos/DummyML, configfile: pytest.ini, testpaths: tests\n",
      "plugins: typeguard-2.13.3\n",
      "collected 5 items                                                              \u001b[0m\n",
      "\n",
      "tests/test_dummy_classifier.py \u001b[32m.\u001b[0m\u001b[32m.\u001b[0m\u001b[32m                                        [ 40%]\u001b[0m\n",
      "tests/test_dummy_regression.py \u001b[32m.\u001b[0m\u001b[32m                                         [ 60%]\u001b[0m\n",
      "tests/test_naive_bayes_classifier.py \u001b[32m.\u001b[0m\u001b[32m.\u001b[0m\u001b[32m                                  [100%]\u001b[0m\n",
      "\n",
      "\u001b[32m============================== \u001b[32m\u001b[1m5 passed\u001b[0m\u001b[32m in 1.27s\u001b[0m\u001b[32m ===============================\u001b[0m\n"
     ]
    }
   ],
   "source": [
    "# build & run test\n",
    "!./scripts/build_n_test.sh"
   ]
  },
  {
   "cell_type": "code",
   "execution_count": 1,
   "metadata": {},
   "outputs": [],
   "source": [
    "# Before playing, make sure you already build the project\n",
    "import dummyml\n",
    "import numpy as np"
   ]
  },
  {
   "cell_type": "code",
   "execution_count": 3,
   "metadata": {},
   "outputs": [
    {
     "name": "stdout",
     "output_type": "stream",
     "text": [
      "Result: [4.27880778e-82 2.10843320e-01 7.89156680e-01]\n",
      "[WARNING] naive_bayes_classifier Ctr: _class_number can't be zero, forced changed to 1.\n"
     ]
    }
   ],
   "source": [
    "dummyX = np.zeros((4,))\n",
    "nb_classifier = dummyml.naive_bayes_classifier(0,0)\n",
    "\n",
    "nb_classifier.load('model/myIRIS.dmy')\n",
    "print(\"Result:\",nb_classifier(dummyX))"
   ]
  }
 ],
 "metadata": {
  "interpreter": {
   "hash": "31f2aee4e71d21fbe5cf8b01ff0e069b9275f58929596ceb00d14d90e3e16cd6"
  },
  "kernelspec": {
   "display_name": "Python 3.8.10 64-bit",
   "language": "python",
   "name": "python3"
  },
  "language_info": {
   "codemirror_mode": {
    "name": "ipython",
    "version": 3
   },
   "file_extension": ".py",
   "mimetype": "text/x-python",
   "name": "python",
   "nbconvert_exporter": "python",
   "pygments_lexer": "ipython3",
   "version": "3.8.10"
  },
  "orig_nbformat": 4
 },
 "nbformat": 4,
 "nbformat_minor": 2
}
